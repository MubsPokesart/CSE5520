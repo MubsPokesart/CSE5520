{
 "cells": [
  {
   "cell_type": "markdown",
   "metadata": {},
   "source": [
    "Step 1. Download the NBA data (nba.csv) from HuskyCT which is available in the directory,\n",
    "called “Data Files”. This file is in csv format. You are using the height column only."
   ]
  },
  {
   "cell_type": "code",
   "execution_count": 2,
   "metadata": {},
   "outputs": [],
   "source": [
    "import numpy as np\n",
    "import matplotlib.pyplot as plt\n",
    "from matplotlib.cbook import boxplot_stats\n",
    "from scipy import stats as scipy_stats\n",
    "\n",
    "with open('nba.csv', 'r') as nbafile:\n",
    "    nba_list_content = [item.split(',') for item in nbafile.read().split('\\n')]\n",
    "\n",
    "HEIGHT_COLUMN_INDEX = 4\n",
    "nba_player_heights = []\n",
    "\n",
    "for item in nba_list_content:\n",
    "    try:\n",
    "        nba_player_heights.append(int(item[HEIGHT_COLUMN_INDEX]))\n",
    "                     \n",
    "    except Exception:\n",
    "        continue"
   ]
  },
  {
   "cell_type": "markdown",
   "metadata": {},
   "source": [
    "Step 2. Compute the mean and standard deviation of the NBA players, say, mu and sigma, Respectively."
   ]
  },
  {
   "cell_type": "code",
   "execution_count": 3,
   "metadata": {},
   "outputs": [
    {
     "name": "stdout",
     "output_type": "stream",
     "text": [
      "Mean: 79.27133479212254, Median: 80.0, StDev: 3.4761942789089746\n"
     ]
    }
   ],
   "source": [
    "nba_player_height_mean = np.mean(nba_player_heights)\n",
    "nba_player_height_stdev = np.std(nba_player_heights)\n",
    "\n",
    "nba_player_height_median = np.median(nba_player_heights)\n",
    "\n",
    "print(f'Mean: {nba_player_height_mean}, Median: {nba_player_height_median}, StDev: {nba_player_height_stdev}')"
   ]
  },
  {
   "cell_type": "markdown",
   "metadata": {},
   "source": [
    "Step 3. Create a normalized histogram summarizing the NBA player’s height distribution.\n",
    "Normalized histogram will have a total area 1. Normalized histogram can be achieved by\n",
    "dividing the number of occurrence of each bin by the total number of samples (area)."
   ]
  },
  {
   "cell_type": "code",
   "execution_count": null,
   "metadata": {},
   "outputs": [],
   "source": [
    "plt.figure(figsize=(10, 6))\n",
    "plt.hist(nba_player_heights, bins=20, density=True, edgecolor='black')\n",
    "\n",
    "plt.title('Normalized Histogram of NBA Player Heights')\n",
    "plt.xlabel('Height (in)')\n",
    "plt.ylabel('Density')\n",
    "\n",
    "plt.axvline(nba_player_height_mean, color='red', linestyle='dashed', linewidth=2, label=f'Mean Height: {nba_player_height_mean:.2f} in')\n",
    "\n",
    "plt.legend()\n",
    "plt.grid(True, alpha=0.3)\n",
    "\n",
    "plt.savefig('nba_height_histogram.png')\n",
    "plt.close()"
   ]
  },
  {
   "cell_type": "markdown",
   "metadata": {},
   "source": [
    "Step 4. Show the distribution using boxplot."
   ]
  },
  {
   "cell_type": "code",
   "execution_count": null,
   "metadata": {},
   "outputs": [],
   "source": [
    "fig, ax = plt.subplots(figsize=(10, 6))\n",
    "\n",
    "bp = ax.boxplot(nba_player_heights, vert=False, widths=0.7, showmeans=True, meanprops={\"marker\":\"D\", \"markeredgecolor\":\"green\", \"markerfacecolor\":\"green\"})\n",
    "\n",
    "for element in ['boxes', 'whiskers', 'fliers', 'means', 'medians', 'caps']:\n",
    "    plt.setp(bp[element], color='blue')\n",
    "\n",
    "plt.setp(bp['fliers'], markeredgecolor='red')\n",
    "plt.setp(bp['means'], markeredgecolor='green')\n",
    "\n",
    "ax.set_title('Boxplot of NBA Player Heights', fontsize=16)\n",
    "ax.set_xlabel('Height (cm)', fontsize=12)\n",
    "ax.set_yticks([])\n",
    "ax.grid(True, axis='x', linestyle='--', alpha=0.7)\n",
    "\n",
    "stats = boxplot_stats(nba_player_heights)[0]\n",
    "nba_min_val, nba_max_val, nba_median, = (stats['whislo'], stats['whishi'], stats['med'],) \n",
    "\n",
    "ax.text(nba_min_val, 1.1, f'Min: {nba_min_val:.0f}', ha='center', va='bottom')\n",
    "ax.text(nba_max_val, 1.1, f'Max: {nba_max_val:.0f}', ha='center', va='bottom')\n",
    "ax.text(nba_player_height_median, 1.1, f'Median: {nba_player_height_median:.0f}', ha='center', va='bottom')\n",
    "ax.text(nba_player_height_mean, 1.1, f'Mean: {nba_player_height_mean:.0f}', ha='center', va='bottom', color='green')\n",
    "\n",
    "plt.tight_layout()\n",
    "plt.savefig('nba_height_boxplot.png')\n",
    "plt.close()"
   ]
  },
  {
   "cell_type": "markdown",
   "metadata": {},
   "source": [
    "Step 5. Show the distribution using violinplot."
   ]
  },
  {
   "cell_type": "code",
   "execution_count": null,
   "metadata": {},
   "outputs": [],
   "source": [
    "fig, ax = plt.subplots(figsize=(10, 6))\n",
    "parts = ax.violinplot(nba_player_heights, vert=True, showmeans=True, showmedians=True)\n",
    "\n",
    "parts['bodies'][0].set_facecolor('lightblue')\n",
    "parts['bodies'][0].set_edgecolor('blue')\n",
    "parts['cmeans'].set_color('red')\n",
    "parts['cmedians'].set_color('green')\n",
    "\n",
    "ax.set_title('Violin Plot of NBA Player Heights', fontsize=16)\n",
    "ax.set_ylabel('Height (cm)', fontsize=12)\n",
    "ax.set_xticks([])\n",
    "\n",
    "ax.text(1.15, nba_player_height_mean, f'Mean: {nba_player_height_mean:.2f}', verticalalignment='center', color='red')\n",
    "ax.text(1.15, nba_player_height_median, f'Median: {nba_player_height_median:.2f}', verticalalignment='center', color='green')\n",
    "\n",
    "ax.grid(True, axis='y', linestyle='--', alpha=0.7)\n",
    "\n",
    "plt.tight_layout()\n",
    "plt.savefig('nba_height_violinplot.png')\n",
    "plt.close()"
   ]
  },
  {
   "cell_type": "markdown",
   "metadata": {},
   "source": [
    "Step 6. Convert the histogram you created in Step 3 using z values for the heights of the players. Z-score graph should be also normalized.\n"
   ]
  },
  {
   "cell_type": "code",
   "execution_count": null,
   "metadata": {},
   "outputs": [],
   "source": [
    "z_scores = scipy_stats.zscore(nba_player_heights)\n",
    "\n",
    "plt.figure(figsize=(10, 6))\n",
    "plt.hist(z_scores, bins=20, density=True, edgecolor='black')\n",
    "\n",
    "plt.title('Normalized Histogram of NBA Player Heights (Z-Scores)')\n",
    "plt.xlabel('Z-Score')\n",
    "plt.ylabel('Density')\n",
    "\n",
    "plt.axvline(0, color='red', linestyle='dashed', linewidth=2, label='Mean (Z-Score = 0)')\n",
    "\n",
    "plt.legend()\n",
    "plt.grid(True, alpha=0.3)\n",
    "\n",
    "plt.text(-1, plt.gca().get_ylim()[1], '-1σ', ha='center', va='bottom')\n",
    "plt.text(0, plt.gca().get_ylim()[1], '0', ha='center', va='bottom')\n",
    "plt.text(1, plt.gca().get_ylim()[1], '+1σ', ha='center', va='bottom')\n",
    "plt.text(-2, plt.gca().get_ylim()[1], '-2σ', ha='center', va='bottom')\n",
    "plt.text(2, plt.gca().get_ylim()[1], '+2σ', ha='center', va='bottom')\n",
    "\n",
    "for i in range(-2, 3):\n",
    "    if i != 0:\n",
    "        plt.axvline(i, color='gray', linestyle=':', linewidth=1)\n",
    "\n",
    "plt.savefig('nba_height_zscore_histogram.png')\n",
    "plt.close()"
   ]
  },
  {
   "cell_type": "markdown",
   "metadata": {},
   "source": [
    "Step 7. Create a normal distribution graph using mu and sigma you created in Step 2 and overlay it on the normalized histogram you created in Step 3. You can do this using matplotlib.pyplots.subplots."
   ]
  },
  {
   "cell_type": "code",
   "execution_count": null,
   "metadata": {},
   "outputs": [],
   "source": [
    "fig, ax = plt.subplots(figsize=(10, 6))\n",
    "\n",
    "ax.hist(nba_player_heights, bins=20, density=True, edgecolor='black', alpha=0.7, label='Actual Distribution')\n",
    "\n",
    "x = np.linspace(min(nba_player_heights), max(nba_player_heights), 100)\n",
    "y = scipy_stats.norm.pdf(x, nba_player_height_mean, nba_player_height_stdev)\n",
    "\n",
    "ax.plot(x, y, 'r-', linewidth=2, label='Normal Distribution')\n",
    "\n",
    "ax.set_title('Normalized Histogram of NBA Player Heights with Normal Distribution Overlay')\n",
    "ax.set_xlabel('Height (in)')\n",
    "ax.set_ylabel('Density')\n",
    "\n",
    "ax.axvline(nba_player_height_mean, color='green', linestyle='dashed', linewidth=2, label=f'Mean Height: {nba_player_height_mean:.2f} in')\n",
    "\n",
    "ax.legend()\n",
    "ax.grid(True, alpha=0.3)\n",
    "\n",
    "plt.savefig('nba_height_histogram_with_normal_distribution.png')\n",
    "plt.close()"
   ]
  },
  {
   "cell_type": "markdown",
   "metadata": {},
   "source": [
    "Step 8. Create a normal distribution graph using mu and sigma you created in Step 2 and overlay it on the normalized z-score, you created in Step 6. You can do this using\n",
    "Matplotlib.pyplots.subplots."
   ]
  },
  {
   "cell_type": "code",
   "execution_count": null,
   "metadata": {},
   "outputs": [],
   "source": [
    "fig, ax = plt.subplots(figsize=(12, 7))\n",
    "\n",
    "ax.hist(z_scores, bins=20, density=True, alpha=0.7, color='skyblue', edgecolor='black', label='Z-Score Distribution')\n",
    "x = np.linspace(-4, 4, 100)\n",
    "y = scipy_stats.norm.pdf(x, 0, 1)\n",
    "ax.plot(x, y, 'r-', linewidth=2, label='Standard Normal Distribution')\n",
    "\n",
    "ax.set_title('Normalized Z-Score Histogram of NBA Player Heights with Standard Normal Distribution Overlay', fontsize=14)\n",
    "ax.set_xlabel('Z-Score', fontsize=12)\n",
    "ax.set_ylabel('Density', fontsize=12)\n",
    "\n",
    "for i in range(-3, 4):\n",
    "    if i != 0:\n",
    "        ax.axvline(i, color='gray', linestyle=':', linewidth=1)\n",
    "    ax.text(i, ax.get_ylim()[1], f'{i}σ', ha='center', va='bottom')\n",
    "\n",
    "ax.axvline(0, color='green', linestyle='--', linewidth=2, label='Mean (Z-Score = 0)')\n",
    "\n",
    "ax.legend(fontsize=10)\n",
    "ax.grid(True, alpha=0.3)\n",
    "\n",
    "stats_text = f'Original Distribution:\\nMean: {nba_player_height_mean:.2f}\\nStd Dev: {nba_player_height_stdev:.2f}'\n",
    "ax.text(0.95, 0.95, stats_text, transform=ax.transAxes, fontsize=10, verticalalignment='top', horizontalalignment='right',\n",
    "        bbox=dict(boxstyle='round', facecolor='white', alpha=0.8))\n",
    "\n",
    "plt.tight_layout()\n",
    "\n",
    "plt.save('nba_height_zscore_with_normal_distribution.png')\n",
    "plt.close()"
   ]
  }
 ],
 "metadata": {
  "kernelspec": {
   "display_name": "Python 3",
   "language": "python",
   "name": "python3"
  },
  "language_info": {
   "codemirror_mode": {
    "name": "ipython",
    "version": 3
   },
   "file_extension": ".py",
   "mimetype": "text/x-python",
   "name": "python",
   "nbconvert_exporter": "python",
   "pygments_lexer": "ipython3",
   "version": "3.12.6"
  }
 },
 "nbformat": 4,
 "nbformat_minor": 2
}
