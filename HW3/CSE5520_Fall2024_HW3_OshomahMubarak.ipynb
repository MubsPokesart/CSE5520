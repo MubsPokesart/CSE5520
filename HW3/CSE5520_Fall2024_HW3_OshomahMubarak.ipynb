{
 "cells": [
  {
   "cell_type": "markdown",
   "metadata": {},
   "source": [
    "# CSE 5520: Homework 3\n",
    "\n",
    "This homework is to help you practice with data visualization fundamentals related to various\n",
    "correlation analysis methods. You are expected to use these visualization techniques and others\n",
    "in doing your final project. You are required to do this exercise in Python. All plots/graphs must\n",
    "have titles and x-y coordinate tick labels and any necessary legend if desired. "
   ]
  },
  {
   "cell_type": "markdown",
   "metadata": {},
   "source": [
    "## **Part 1: Linear Regression**\n",
    "\n",
    "Consider a simple set of data points {<2, 2 >, <3, 3 >, <4, 5>, <6, 4>}."
   ]
  },
  {
   "cell_type": "markdown",
   "metadata": {},
   "source": [
    "Step 1: Show the given <x, y> data points in a 2D plot."
   ]
  },
  {
   "cell_type": "code",
   "execution_count": null,
   "metadata": {},
   "outputs": [],
   "source": []
  },
  {
   "cell_type": "markdown",
   "metadata": {},
   "source": [
    "Step 2: Draw the regression line over the plot shown in Step 1. Steps 1 and 2 should be done in one cell of Jupyter notebook."
   ]
  },
  {
   "cell_type": "code",
   "execution_count": null,
   "metadata": {},
   "outputs": [],
   "source": []
  },
  {
   "cell_type": "markdown",
   "metadata": {},
   "source": [
    "Step 3: Create a separate markdown cell and include your manual calculation of the components of the equation designed to produce the linear regression line. Hint: You can do calculation using MS Excel and import the snipped image in the markdown cell. There are other ways also. This hand calculation should show how intercept and slope are calculated."
   ]
  },
  {
   "cell_type": "code",
   "execution_count": null,
   "metadata": {},
   "outputs": [],
   "source": []
  },
  {
   "cell_type": "markdown",
   "metadata": {},
   "source": [
    "Step 4: Show how covariance matrix is calculated using python. Print the value."
   ]
  },
  {
   "cell_type": "code",
   "execution_count": null,
   "metadata": {},
   "outputs": [],
   "source": []
  },
  {
   "cell_type": "markdown",
   "metadata": {},
   "source": [
    "Step 5: Create a separate markdown cell and include your manual calculation of the components of the equation designed to produce covariance matrix.\n"
   ]
  },
  {
   "cell_type": "code",
   "execution_count": null,
   "metadata": {},
   "outputs": [],
   "source": []
  },
  {
   "cell_type": "markdown",
   "metadata": {},
   "source": [
    "Step 6: Show how Pearson’s correlation coefficient is computed using python. Print the value."
   ]
  },
  {
   "cell_type": "code",
   "execution_count": null,
   "metadata": {},
   "outputs": [],
   "source": []
  },
  {
   "cell_type": "markdown",
   "metadata": {},
   "source": [
    "Step 7: Create a separate markdown cell and include your manual calculation of the components of the equation designed to produce Pearson’s correlation coefficient."
   ]
  },
  {
   "cell_type": "code",
   "execution_count": null,
   "metadata": {},
   "outputs": [],
   "source": []
  },
  {
   "cell_type": "markdown",
   "metadata": {},
   "source": [
    "Step 8. This time, you use the nba.csv from HuskyCT. Produce a regression line for this data set using weight as dependent variable and height as independent variable. The plot should include data points and the regression line. The intercept and slope values should be included in the title of the plot where should appear at the top (centered in bold) above the plot."
   ]
  },
  {
   "cell_type": "code",
   "execution_count": null,
   "metadata": {},
   "outputs": [],
   "source": []
  },
  {
   "cell_type": "markdown",
   "metadata": {},
   "source": [
    "Step 9. Using the regression line in Step 8, compute and print the “predicted” weight for a unknown player whose height is 91. "
   ]
  },
  {
   "cell_type": "code",
   "execution_count": null,
   "metadata": {},
   "outputs": [],
   "source": []
  },
  {
   "cell_type": "markdown",
   "metadata": {},
   "source": [
    "## **Part II: Scatter Plot with Pearson Correlation Coefficient**\n",
    "\n",
    "Consider the article “Integrated systems approach identifies genetic nodes and networks in\n",
    "lateonset Alzheimer's disease” Cell. 2013 Apr 25;153(3):707-20. PMID: 23622250; PMCID:\n",
    "PMC3677161, by Zhang et al. The gene expression dataset published for this article GSE44768\n",
    "is available at https://www.ncbi.nlm.nih.gov/geo/query/acc.cgi?acc=GSE44768. This dataset has\n",
    "been preprocessed and some portion is available in HuskyCT. The article “GSE44768_article” is\n",
    "also available in HW3 folder. Do Part II steps using only the data from the Dementia group\n",
    "(GSE44768_CR_alz_female_reduced.csv). "
   ]
  },
  {
   "cell_type": "markdown",
   "metadata": {},
   "source": [
    "Step 1. Create and show two scatter plots, one comparing gene expression values between the\n",
    "two genes (TYROBP and DOCK2) and the other comparing gene expression values between\n",
    "TYROBP and GSTA4. Each plot should have the appropriate title including r (Pearson\n",
    "correlation coefficient value). "
   ]
  },
  {
   "cell_type": "code",
   "execution_count": null,
   "metadata": {},
   "outputs": [],
   "source": []
  },
  {
   "cell_type": "markdown",
   "metadata": {},
   "source": [
    "Step 2. Create and show two scatter plots, one comparing gene expression values between\n",
    "TYROBP and FCER1G and the other comparing gene expression values between ACBD5 and\n",
    "LMAN1. This time, both plots should appear side by side. Each plot should have the appropriate\n",
    "title including r. "
   ]
  },
  {
   "cell_type": "code",
   "execution_count": null,
   "metadata": {},
   "outputs": [],
   "source": []
  },
  {
   "cell_type": "markdown",
   "metadata": {},
   "source": [
    "## **Part III: Correlation Matrix and Heatmap**\n",
    "Now you are analyzing multiple pairs of genes at the same time, i.e., you like to know which\n",
    "pairs would exhibit good positive or negative correlations? Instead of all possible pairs, you will\n",
    "examine pairs from only 10 genes. "
   ]
  },
  {
   "cell_type": "markdown",
   "metadata": {},
   "source": [
    "Step 1. Create and show a 10 x 10 correlation matrix in which TYROBP, DOCK2 and GSTA4\n",
    "are included. For the other 7 genes, you can choose any from the list for the analysis. Do this\n",
    "step using only the data from the Dementia group (GSE44768_CR_alz_female_reduced.csv).\n",
    "Retain your gene order for the rest of Part III analysis,"
   ]
  },
  {
   "cell_type": "code",
   "execution_count": null,
   "metadata": {},
   "outputs": [],
   "source": []
  },
  {
   "cell_type": "markdown",
   "metadata": {},
   "source": [
    "Step 2. Convert correlation matrix you generated in Step 2 into a correlation coefficient heatmap\n",
    "and show. A heatmap is a two-dimensional graphical representation of data where the\n",
    "individual values that are contained in a matrix are represented as colours. The Seaborn\n",
    "package allows the creation of annotated heatmaps. You are required to add title and axis\n",
    "labels appropriately. Do this step using only the data from the Dementia group\n",
    "(GSE44768_CR_alz_female_reduced.csv). "
   ]
  },
  {
   "cell_type": "code",
   "execution_count": null,
   "metadata": {},
   "outputs": [],
   "source": []
  },
  {
   "cell_type": "markdown",
   "metadata": {},
   "source": [
    "Step 3. This time repeat Steps 1 and 2 for the data from the Non-Dementia group\n",
    "(GSE44768_CR_nd_female_reduced.csv). "
   ]
  },
  {
   "cell_type": "code",
   "execution_count": null,
   "metadata": {},
   "outputs": [],
   "source": []
  },
  {
   "cell_type": "markdown",
   "metadata": {},
   "source": [
    "Step 4. Plot the heatmaps (not correlation matrix) you generated from Steps 2 and 3 side by side. "
   ]
  },
  {
   "cell_type": "code",
   "execution_count": null,
   "metadata": {},
   "outputs": [],
   "source": []
  },
  {
   "cell_type": "markdown",
   "metadata": {},
   "source": [
    "Step 5. Create a markdown cell and discuss your comparison between the two heatmaps you are\n",
    "showing side by side in Step 4. Do you see any noticeable difference? "
   ]
  },
  {
   "cell_type": "code",
   "execution_count": null,
   "metadata": {},
   "outputs": [],
   "source": []
  },
  {
   "cell_type": "markdown",
   "metadata": {},
   "source": [
    "## **Part IV: Review of Histogram/Boxplot/Violinplot**\n",
    "Consider again the gene expression data set introduced in Part II. You would like to compare\n",
    "histograms for TYROBP’s gene expression levels between the two cohorts, the Dementia group\n",
    "(GSE44768_CR_alz_female_reduced.csv) and the Non-Dementia group\n",
    "(GSE44768_CR_nd_female_reduced.csv). Label each plot appropriately including color legend. "
   ]
  },
  {
   "cell_type": "markdown",
   "metadata": {},
   "source": [
    "Step 1. Create and show two histograms for TYROBP’s gene expression level for the Dementia\n",
    "group and the Non-Dementia group, individually, side by side. "
   ]
  },
  {
   "cell_type": "code",
   "execution_count": null,
   "metadata": {},
   "outputs": [],
   "source": []
  },
  {
   "cell_type": "markdown",
   "metadata": {},
   "source": [
    "Step 2. This time, merge both histograms with different colors, blue for the Dementia group and\n",
    "red for the Non-Dementia group, into one plot. "
   ]
  },
  {
   "cell_type": "code",
   "execution_count": null,
   "metadata": {},
   "outputs": [],
   "source": []
  },
  {
   "cell_type": "markdown",
   "metadata": {},
   "source": [
    "Step 3. This time, create and show boxplots for TYROBP’s gene expression level both for the\n",
    "Dementia group and the Non-Dementia group in one plot, side by side. "
   ]
  },
  {
   "cell_type": "code",
   "execution_count": null,
   "metadata": {},
   "outputs": [],
   "source": []
  },
  {
   "cell_type": "markdown",
   "metadata": {},
   "source": [
    "Step 4. Repeat Step 3 using violinplot again in one plot, side by side. "
   ]
  },
  {
   "cell_type": "code",
   "execution_count": null,
   "metadata": {},
   "outputs": [],
   "source": []
  },
  {
   "cell_type": "markdown",
   "metadata": {},
   "source": [
    "Step 5. Create a markdown cell to include your interpretation for comparing TYROBP gene\n",
    "expression levels from the two cohorts. We are not interested in checking if your answer is right\n",
    "or not from the perspective of Alzheimer’s Disease but we will check if your reasoning based on\n",
    "your plots is sound or not."
   ]
  },
  {
   "cell_type": "code",
   "execution_count": null,
   "metadata": {},
   "outputs": [],
   "source": []
  }
 ],
 "metadata": {
  "language_info": {
   "name": "python"
  }
 },
 "nbformat": 4,
 "nbformat_minor": 2
}
